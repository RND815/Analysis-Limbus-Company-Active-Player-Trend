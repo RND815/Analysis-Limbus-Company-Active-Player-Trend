{
 "cells": [
  {
   "cell_type": "markdown",
   "id": "877f01e9",
   "metadata": {},
   "source": [
    "Library, Module, and Class Import and Environment Setup"
   ]
  },
  {
   "cell_type": "code",
   "execution_count": null,
   "id": "1cbd9768",
   "metadata": {},
   "outputs": [],
   "source": [
    "import pandas as pd\n",
    "import re\n",
    "import itertools\n",
    "from sklearn.linear_model import LinearRegression\n",
    "\n",
    "# Load Limbus_Company_Active_Player.csv file\n",
    "df = pd.read_csv(\"Limbus_Company_Active_Player.csv\")\n",
    "\n",
    "# Ensure 'Average Players' and 'DateTime' column exist\n",
    "df['DateTime'] = pd.to_datetime(df['DateTime'])\n",
    "df = df.sort_values('DateTime')  # sorts and ensure correct time order\n",
    "players = df['Average Players']\n",
    "\n",
    "# The lag range is limited to 30 days to ensure manageable computation \n",
    "# while still capturing a diverse set of results\n",
    "max_lag = 30"
   ]
  },
  {
   "cell_type": "markdown",
   "id": "e4177315",
   "metadata": {},
   "source": [
    "Lag Correlation Analysis"
   ]
  },
  {
   "cell_type": "code",
   "execution_count": null,
   "id": "40e451c5",
   "metadata": {},
   "outputs": [
    {
     "name": "stdout",
     "output_type": "stream",
     "text": [
      "a_n-1: correlation = 0.9657\n",
      "a_n-7: correlation = 0.9518\n",
      "a_n-2: correlation = 0.9493\n",
      "a_n-6: correlation = 0.9388\n",
      "a_n-5: correlation = 0.9324\n",
      "a_n-3: correlation = 0.9308\n",
      "a_n-8: correlation = 0.9301\n",
      "a_n-14: correlation = 0.9271\n",
      "a_n-4: correlation = 0.9245\n",
      "a_n-9: correlation = 0.9171\n",
      "a_n-13: correlation = 0.9089\n",
      "a_n-12: correlation = 0.9052\n",
      "a_n-10: correlation = 0.9004\n",
      "a_n-15: correlation = 0.8995\n",
      "a_n-11: correlation = 0.8955\n",
      "a_n-16: correlation = 0.8829\n",
      "a_n-21: correlation = 0.8791\n",
      "a_n-20: correlation = 0.8663\n",
      "a_n-17: correlation = 0.8641\n",
      "a_n-19: correlation = 0.8626\n",
      "a_n-18: correlation = 0.8598\n",
      "a_n-22: correlation = 0.8570\n",
      "a_n-28: correlation = 0.8466\n",
      "a_n-23: correlation = 0.8430\n",
      "a_n-27: correlation = 0.8310\n",
      "a_n-24: correlation = 0.8296\n",
      "a_n-26: correlation = 0.8262\n",
      "a_n-29: correlation = 0.8226\n",
      "a_n-25: correlation = 0.8195\n",
      "a_n-30: correlation = 0.8125\n"
     ]
    }
   ],
   "source": [
    "correlations = {} # dictionary to keep lag:correlation\n",
    "\n",
    "# Compute correlation for each lag\n",
    "for lag in range(1, max_lag + 1):\n",
    "    lagged = players.shift(lag) # shifts index by lag\n",
    "    corr = players.corr(lagged) # get the correlation value between current a_n with a_n-lag\n",
    "    correlations[f'a_n-{lag}'] = corr # put values into dictionary\n",
    "\n",
    "# Sort the dictionary of lag correlations in descending order based on the absolute value of the correlation\n",
    "correlations_sorted = dict(sorted(correlations.items(), key=lambda item: abs(item[1]), reverse=True))\n",
    "\n",
    "# Show results\n",
    "for lag, corr in correlations_sorted.items():\n",
    "    print(f\"{lag}: correlation = {corr:.4f}\")"
   ]
  },
  {
   "cell_type": "markdown",
   "id": "975b84a3",
   "metadata": {},
   "source": [
    "Single-Lag Regression Modeling"
   ]
  },
  {
   "cell_type": "code",
   "execution_count": null,
   "id": "53d14097",
   "metadata": {},
   "outputs": [
    {
     "name": "stdout",
     "output_type": "stream",
     "text": [
      "Lag  1: a_n ≈ 0.9651 * a_(n-1) + 581.92 | R² = 0.9326\n",
      "Lag  7: a_n ≈ 0.9510 * a_(n-7) + 832.15 | R² = 0.9059\n",
      "Lag  2: a_n ≈ 0.9487 * a_(n-2) + 852.65 | R² = 0.9011\n",
      "Lag  6: a_n ≈ 0.9380 * a_(n-6) + 1065.79 | R² = 0.8814\n",
      "Lag  5: a_n ≈ 0.9318 * a_(n-5) + 1137.65 | R² = 0.8694\n"
     ]
    }
   ],
   "source": [
    "results = [] # holds tuples of (lag, alpha, beta, r2)\n",
    "\n",
    "for label in correlations:\n",
    "    match = re.search(r'a_n-(\\d+)', label) # extract lag values from string-formatted key\n",
    "    if not match:\n",
    "        continue # skip if key format is invalid\n",
    "\n",
    "    k = int(match.group(1)) # convert obtained lag values from string into number\n",
    "\n",
    "    df_lag = pd.DataFrame({ # create dataframe\n",
    "        'y': players, # y represents a_n\n",
    "        f'x_{k}': players.shift(k) # x represents a_n-k\n",
    "    }).dropna() # removes NaN values\n",
    "\n",
    "    X = df_lag[[f'x_{k}']].values\n",
    "    y = df_lag['y'].values\n",
    "\n",
    "    model = LinearRegression() # create linear regression model\n",
    "    model.fit(X, y)\n",
    "\n",
    "    alpha = model.coef_[0] # get model slope\n",
    "    beta = model.intercept_ # get model intercept\n",
    "    r2 = model.score(X, y) # get model R-squared\n",
    "\n",
    "    # Stores tuple (lag, slope, intercept, r2)\n",
    "    results.append((k, alpha, beta, r2))\n",
    "\n",
    "# Sort the results by R-squared score in descending order\n",
    "results.sort(key=lambda x: x[3], reverse=True)\n",
    "\n",
    "# Print sorted results (top 5)\n",
    "for k, alpha, beta, r2 in results[:5]:\n",
    "    print(f\"Lag {k:2d}: a_n ≈ {alpha:.4f} * a_(n-{k}) + {beta:.2f} | R² = {r2:.4f}\")"
   ]
  },
  {
   "cell_type": "markdown",
   "id": "f09dff04",
   "metadata": {},
   "source": [
    "Multi-Lag Regression Modeling"
   ]
  },
  {
   "cell_type": "markdown",
   "id": "4ff23527",
   "metadata": {},
   "source": [
    "* 2-Lag"
   ]
  },
  {
   "cell_type": "code",
   "execution_count": null,
   "id": "703c78cc",
   "metadata": {},
   "outputs": [
    {
     "name": "stdout",
     "output_type": "stream",
     "text": [
      "Combination (1, 7): a_n ≈ 0.6105·a_(n-1) + 0.3792·a_(n-7) + 183.06 | R² = 0.9512\n",
      "Combination (1, 14): a_n ≈ 0.7108·a_(n-1) + 0.2802·a_(n-14) + 174.49 | R² = 0.9474\n",
      "Combination (1, 5): a_n ≈ 0.7176·a_(n-1) + 0.2687·a_(n-5) + 231.90 | R² = 0.9442\n",
      "Combination (1, 6): a_n ≈ 0.7067·a_(n-1) + 0.2781·a_(n-6) + 259.47 | R² = 0.9438\n",
      "Combination (1, 13): a_n ≈ 0.7880·a_(n-1) + 0.1968·a_(n-13) + 269.39 | R² = 0.9409\n"
     ]
    }
   ],
   "source": [
    "lags = list(range(1, max_lag + 1)) # range of lag values from 1 to 30\n",
    "results = [] # holds tuples of (combination, slope, intercept, r2)\n",
    "\n",
    "# Test all 2-lag combinations\n",
    "for r in [2]:\n",
    "    for combination in itertools.combinations(lags, r):\n",
    "        lagged_df = pd.DataFrame({'a_n': players}) # create dataframe and a_n as dependent variable\n",
    "        for k in combination:\n",
    "            lagged_df[f'a_n-{k}'] = players.shift(k) # a_n-k1 and a_n-k2 as independent variable\n",
    "        lagged_df = lagged_df.dropna() # removes NaN values\n",
    "\n",
    "        X = lagged_df.drop(columns='a_n')\n",
    "        y = lagged_df['a_n']\n",
    "\n",
    "        model = LinearRegression()\n",
    "        model.fit(X, y)\n",
    "\n",
    "        alpha = model.coef_ # get model slope\n",
    "        beta = model.intercept_ # get model intercept\n",
    "        r2 = model.score(X, y) # get model R-squared\n",
    "\n",
    "        # Store tuple (combination, slope, intercept, r2)\n",
    "        results.append((combination, alpha, beta, r2))\n",
    "\n",
    "# Sort the results by r2 score in descending order\n",
    "results.sort(key=lambda x: x[3], reverse=True)\n",
    "\n",
    "# Print sorted results (top 5)\n",
    "for combination, coefs, intercept, r2 in results[:5]:\n",
    "    terms = \" + \".join([f\"{coef:.4f}·a_(n-{lag})\" for coef, lag in zip(coefs, combination)])\n",
    "    print(f\"Combination {combination}: a_n ≈ {terms} + {intercept:.2f} | R² = {r2:.4f}\")"
   ]
  },
  {
   "cell_type": "markdown",
   "id": "73221f43",
   "metadata": {},
   "source": [
    "* 3-Lag"
   ]
  },
  {
   "cell_type": "code",
   "execution_count": null,
   "id": "c08cbaed",
   "metadata": {},
   "outputs": [
    {
     "name": "stdout",
     "output_type": "stream",
     "text": [
      "Combination (1, 14, 15): a_n ≈ 0.8746·a_(n-1) + 0.6886·a_(n-14) + -0.5764·a_(n-15) + 225.30 | R² = 0.9652\n",
      "Combination (1, 7, 8): a_n ≈ 0.7450·a_(n-1) + 0.5944·a_(n-7) + -0.3529·a_(n-8) + 228.67 | R² = 0.9574\n",
      "Combination (1, 28, 29): a_n ≈ 0.9245·a_(n-1) + 0.5861·a_(n-28) + -0.5262·a_(n-29) + 267.77 | R² = 0.9570\n",
      "Combination (1, 7, 15): a_n ≈ 0.6859·a_(n-1) + 0.4733·a_(n-7) + -0.1770·a_(n-15) + 307.59 | R² = 0.9549\n",
      "Combination (1, 14, 22): a_n ≈ 0.7515·a_(n-1) + 0.4549·a_(n-14) + -0.2274·a_(n-22) + 367.66 | R² = 0.9542\n"
     ]
    }
   ],
   "source": [
    "lags = list(range(1, max_lag + 1)) # range of lag values from 1 to 30\n",
    "results = [] # holds tuples of (combination, slope, intercept, r2)\n",
    "\n",
    "# Test all 3-lag combinations\n",
    "for r in [3]:\n",
    "    for combination in itertools.combinations(lags, r):\n",
    "        lagged_df = pd.DataFrame({'a_n': players}) # create dataframe and a_n as dependent variable\n",
    "        for k in combination:\n",
    "            lagged_df[f'a_n-{k}'] = players.shift(k) # a_n-k1, a_n-k2, and a_n-k3 as independent variable\n",
    "        lagged_df = lagged_df.dropna() # removes NaN values\n",
    "\n",
    "        X = lagged_df.drop(columns='a_n')\n",
    "        y = lagged_df['a_n']\n",
    "\n",
    "        model = LinearRegression()\n",
    "        model.fit(X, y)\n",
    "\n",
    "        alpha = model.coef_ # get model slope\n",
    "        beta = model.intercept_ # get model intercept\n",
    "        r2 = model.score(X, y) # get model R-squared\n",
    "\n",
    "        # Store tuple (combination, slope, intercept, r2)\n",
    "        results.append((combination, alpha, beta, r2))\n",
    "\n",
    "# Sort the results by r2 score in descending order\n",
    "results.sort(key=lambda x: x[3], reverse=True)\n",
    "\n",
    "# Print sorted results (top 5)\n",
    "for combination, coefs, intercept, r2 in results[:5]:\n",
    "    terms = \" + \".join([f\"{coef:.4f}·a_(n-{lag})\" for coef, lag in zip(coefs, combination)])\n",
    "    print(f\"Combination {combination}: a_n ≈ {terms} + {intercept:.2f} | R² = {r2:.4f}\")"
   ]
  },
  {
   "cell_type": "markdown",
   "id": "4a1d20e2",
   "metadata": {},
   "source": [
    "Summation-Lag Correlation Analysis"
   ]
  },
  {
   "cell_type": "code",
   "execution_count": null,
   "id": "9153ef2f",
   "metadata": {},
   "outputs": [
    {
     "name": "stdout",
     "output_type": "stream",
     "text": [
      "sum_lag_2: correlation = 0.9849\n",
      "sum_lag_3: correlation = 0.9785\n",
      "sum_lag_4: correlation = 0.9740\n",
      "sum_lag_7: correlation = 0.9733\n",
      "sum_lag_5: correlation = 0.9725\n",
      "sum_lag_6: correlation = 0.9720\n",
      "sum_lag_8: correlation = 0.9719\n",
      "sum_lag_9: correlation = 0.9697\n",
      "sum_lag_10: correlation = 0.9666\n",
      "sum_lag_11: correlation = 0.9639\n",
      "sum_lag_12: correlation = 0.9622\n",
      "sum_lag_14: correlation = 0.9616\n",
      "sum_lag_13: correlation = 0.9612\n",
      "sum_lag_15: correlation = 0.9603\n",
      "sum_lag_16: correlation = 0.9582\n",
      "sum_lag_17: correlation = 0.9555\n",
      "sum_lag_18: correlation = 0.9527\n",
      "sum_lag_19: correlation = 0.9506\n",
      "sum_lag_20: correlation = 0.9490\n",
      "sum_lag_21: correlation = 0.9481\n",
      "sum_lag_22: correlation = 0.9464\n",
      "sum_lag_23: correlation = 0.9443\n",
      "sum_lag_24: correlation = 0.9417\n",
      "sum_lag_25: correlation = 0.9392\n",
      "sum_lag_26: correlation = 0.9372\n",
      "sum_lag_27: correlation = 0.9356\n",
      "sum_lag_28: correlation = 0.9347\n",
      "sum_lag_29: correlation = 0.9330\n",
      "sum_lag_30: correlation = 0.9310\n"
     ]
    }
   ],
   "source": [
    "correlation_sums = {} # dictionary to keep sum_lag:correlation\n",
    "\n",
    "# Compute correlation for each lag summation\n",
    "for lag in range(2, 31):\n",
    "    sum_lag = players.copy()\n",
    "    for i in range(1, lag+1):\n",
    "        sum_lag += players.shift(i) # calculate summation by lag amount\n",
    "    \n",
    "    # Create dataframe\n",
    "    sum_players = pd.DataFrame({\n",
    "        'a_n': players, # a_n as dependent variable\n",
    "        'sum_lag': sum_lag # the sum from a_n-1 to a_n-lag as independent variable\n",
    "    }).dropna() # removes NaN values\n",
    "\n",
    "    # get the correlation value between current a_n with sum_lag\n",
    "    corr = sum_players['a_n'].corr(sum_players['sum_lag']) \n",
    "    # put values into dictionary\n",
    "    correlation_sums[f'sum_lag_{lag}'] = corr\n",
    "\n",
    "# Sort the dictionary of summation-lag correlations in descending order based on the absolute value of the correlation\n",
    "sorted_corr = dict(sorted(correlation_sums.items(), key=lambda x: abs(x[1]), reverse=True))\n",
    "\n",
    "# Show results\n",
    "for label, corr in sorted_corr.items():\n",
    "    print(f\"{label}: correlation = {corr:.4f}\")"
   ]
  },
  {
   "cell_type": "markdown",
   "id": "28b35aca",
   "metadata": {},
   "source": [
    "Summation-Lag Regression Modeling"
   ]
  },
  {
   "cell_type": "code",
   "execution_count": null,
   "id": "68382dd1",
   "metadata": {},
   "outputs": [
    {
     "name": "stdout",
     "output_type": "stream",
     "text": [
      "k =  2: a_n ≈ 0.3327 * SUM(a_(n-1) to a_(n-2)) + 38.06 | R² = 0.9701\n",
      "k =  3: a_n ≈ 0.2488 * SUM(a_(n-1) to a_(n-3)) + 80.74 | R² = 0.9574\n",
      "k =  4: a_n ≈ 0.1988 * SUM(a_(n-1) to a_(n-4)) + 104.90 | R² = 0.9487\n",
      "k =  7: a_n ≈ 0.1247 * SUM(a_(n-1) to a_(n-7)) + 52.02 | R² = 0.9473\n",
      "k =  5: a_n ≈ 0.1658 * SUM(a_(n-1) to a_(n-5)) + 97.45 | R² = 0.9457\n"
     ]
    }
   ],
   "source": [
    "summation_models = [] # holds tuples of (lag, alpha, beta, r2)\n",
    "\n",
    "for k in range(2, 31):\n",
    "    sum_lag = players.copy()\n",
    "    for i in range(1, k+1):\n",
    "        sum_lag += players.shift(i) # calculate summation by lag amount\n",
    "    \n",
    "    # Create dataframe\n",
    "    df_sum = pd.DataFrame({\n",
    "        'a_n': players, # a_n as dependent variable\n",
    "        'sum_k': sum_lag # the sum from a_n-1 to a_n-lag as independent variable\n",
    "    }).dropna() # removes NaN values\n",
    "\n",
    "    X = df_sum[['sum_k']].values\n",
    "    y = df_sum['a_n'].values \n",
    "\n",
    "    model = LinearRegression() # create linear regression model\n",
    "    model.fit(X, y)\n",
    "\n",
    "    alpha = model.coef_[0] # get model slope\n",
    "    beta = model.intercept_ # get model intercept\n",
    "    r2 = model.score(X, y) # get model accuracy\n",
    "\n",
    "    # Store tuple (k, slope, intercept, r2)\n",
    "    summation_models.append((k, alpha, beta, r2))\n",
    "\n",
    "# Sort the results by R-squared score in descending order\n",
    "summation_models.sort(key=lambda x: x[3], reverse=True)\n",
    "\n",
    "# Print sorted results (top 5)\n",
    "for k, alpha, beta, r2 in summation_models[:5]:\n",
    "    print(f\"k = {k:2d}: a_n ≈ {alpha:.4f} * SUM(a_(n-1) to a_(n-{k})) + {beta:.2f} | R² = {r2:.4f}\")"
   ]
  }
 ],
 "metadata": {
  "kernelspec": {
   "display_name": "Python 3",
   "language": "python",
   "name": "python3"
  },
  "language_info": {
   "codemirror_mode": {
    "name": "ipython",
    "version": 3
   },
   "file_extension": ".py",
   "mimetype": "text/x-python",
   "name": "python",
   "nbconvert_exporter": "python",
   "pygments_lexer": "ipython3",
   "version": "3.13.0"
  }
 },
 "nbformat": 4,
 "nbformat_minor": 5
}
